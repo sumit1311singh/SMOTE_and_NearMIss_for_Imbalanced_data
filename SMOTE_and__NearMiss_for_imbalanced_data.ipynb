{
  "nbformat": 4,
  "nbformat_minor": 0,
  "metadata": {
    "colab": {
      "name": "SMOTE_and _NearMiss_for_imbalanced_data.ipynb",
      "provenance": [],
      "authorship_tag": "ABX9TyPYJN7Aa4Sk8WlF96VKcXGn",
      "include_colab_link": true
    },
    "kernelspec": {
      "name": "python3",
      "display_name": "Python 3"
    },
    "language_info": {
      "name": "python"
    }
  },
  "cells": [
    {
      "cell_type": "markdown",
      "metadata": {
        "id": "view-in-github",
        "colab_type": "text"
      },
      "source": [
        "<a href=\"https://colab.research.google.com/github/sumit1311singh/SMOTE_and_NearMiss_for_Imbalanced_data/blob/main/SMOTE_and__NearMiss_for_imbalanced_data.ipynb\" target=\"_parent\"><img src=\"https://colab.research.google.com/assets/colab-badge.svg\" alt=\"Open In Colab\"/></a>"
      ]
    },
    {
      "cell_type": "markdown",
      "metadata": {
        "id": "UI3HsrYnXX4l"
      },
      "source": [
        "# **SMOTE (Synthetic Minority Over-Sampling Technique)**\n",
        "SMOTE tries over-sampling of the minority class in the dataset. It tries to create duplicate copies of minority class to match with the majority one. This shall be applied before fitting the model."
      ]
    },
    {
      "cell_type": "code",
      "metadata": {
        "colab": {
          "base_uri": "https://localhost:8080/",
          "height": 282
        },
        "id": "ty4feZP3XEqV",
        "outputId": "371f19af-409e-4a80-9017-b41084b803fd"
      },
      "source": [
        "from numpy import where\n",
        "import matplotlib.pyplot as pyplot\n",
        "from collections import Counter\n",
        "from sklearn.datasets import make_classification\n",
        "from imblearn.over_sampling import SMOTE\n",
        "from imblearn.under_sampling import NearMiss\n",
        "\n",
        "Xsmote, Ysmote = make_classification(n_samples=1000, n_features=2, n_redundant=0,\n",
        "  n_clusters_per_class=1, weights=[0.95], flip_y=0, random_state=1)\n",
        "\n",
        "count = Counter(Ysmote)\n",
        "print(count)\n",
        "\n",
        "for label, i in count.items():\n",
        "  row_ix = where(Ysmote == label)[0]\n",
        "  pyplot.scatter(Xsmote[row_ix, 0], Xsmote[row_ix, 1], label=str(label))\n",
        "pyplot.legend()\n",
        "pyplot.show()"
      ],
      "execution_count": 2,
      "outputs": [
        {
          "output_type": "stream",
          "text": [
            "Counter({0: 950, 1: 50})\n"
          ],
          "name": "stdout"
        },
        {
          "output_type": "display_data",
          "data": {
            "image/png": "[encoded data removed]",
            "text/plain": [
              "<Figure size 432x288 with 1 Axes>"
            ]
          },
          "metadata": {
            "tags": [],
            "needs_background": "light"
          }
        }
      ]
    },
    {
      "cell_type": "code",
      "metadata": {
        "colab": {
          "base_uri": "https://localhost:8080/",
          "height": 408
        },
        "id": "TOR3iVVfXGbL",
        "outputId": "d9de6d27-c83e-4a67-a748-1bdf8f845181"
      },
      "source": [
        "Xnear_miss, Ynear_miss = make_classification(n_samples=1000, n_features=2, n_redundant=0,\n",
        "  n_clusters_per_class=1, weights=[0.95], flip_y=0, random_state=1)\n",
        "\n",
        "us = NearMiss(version=1, n_neighbors=3)\n",
        "Xnear_miss, Ynear_miss = us.fit_resample(Xnear_miss, Ynear_miss)\n",
        "\n",
        "count = Counter(Ynear_miss)\n",
        "print(count)\n",
        "\n",
        "for label, _ in count.items():\n",
        "  row_ix = where(Ynear_miss == label)[0]\n",
        "  pyplot.scatter(Xnear_miss[row_ix, 0], Xnear_miss[row_ix, 1], label=str(label))\n",
        "pyplot.legend()\n",
        "pyplot.show()"
      ],
      "execution_count": 3,
      "outputs": [
        {
          "output_type": "stream",
          "text": [
            "Counter({0: 50, 1: 50})\n"
          ],
          "name": "stdout"
        },
        {
          "output_type": "stream",
          "text": [
            "/usr/local/lib/python3.7/dist-packages/sklearn/utils/deprecation.py:87: FutureWarning: Function safe_indexing is deprecated; safe_indexing is deprecated in version 0.22 and will be removed in version 0.24.\n",
            "  warnings.warn(msg, category=FutureWarning)\n",
            "/usr/local/lib/python3.7/dist-packages/sklearn/utils/deprecation.py:87: FutureWarning: Function safe_indexing is deprecated; safe_indexing is deprecated in version 0.22 and will be removed in version 0.24.\n",
            "  warnings.warn(msg, category=FutureWarning)\n",
            "/usr/local/lib/python3.7/dist-packages/sklearn/utils/deprecation.py:87: FutureWarning: Function safe_indexing is deprecated; safe_indexing is deprecated in version 0.22 and will be removed in version 0.24.\n",
            "  warnings.warn(msg, category=FutureWarning)\n"
          ],
          "name": "stderr"
        },
        {
          "output_type": "display_data",
          "data": {
            "image/png": "[encoded data removed]",
            "text/plain": [
              "<Figure size 432x288 with 1 Axes>"
            ]
          },
          "metadata": {
            "tags": [],
            "needs_background": "light"
          }
        }
      ]
    },
    {
      "cell_type": "markdown",
      "metadata": {
        "id": "LgP1ZtCUXcl2"
      },
      "source": [
        "# **Near Miss Technique**\n",
        "It is just the opposite of SMOTE. It tries under-sampling and brings the majority class down to the minority."
      ]
    },
    {
      "cell_type": "code",
      "metadata": {
        "colab": {
          "base_uri": "https://localhost:8080/",
          "height": 408
        },
        "id": "VFEc_HDsXpAN",
        "outputId": "6ae7ccf2-6eb4-42f6-ca22-284b52a5de5e"
      },
      "source": [
        "Xnear_miss, Ynear_miss = make_classification(n_samples=1000, n_features=2, n_redundant=0,\n",
        "  n_clusters_per_class=1, weights=[0.95], flip_y=0, random_state=1)\n",
        "\n",
        "us = NearMiss(version=1, n_neighbors=3)\n",
        "Xnear_miss, Ynear_miss = us.fit_resample(Xnear_miss, Ynear_miss)\n",
        "\n",
        "count = Counter(Ynear_miss)\n",
        "print(count)\n",
        "\n",
        "for label, _ in count.items():\n",
        "  row_ix = where(Ynear_miss == label)[0]\n",
        "  pyplot.scatter(Xnear_miss[row_ix, 0], Xnear_miss[row_ix, 1], label=str(label))\n",
        "pyplot.legend()\n",
        "pyplot.show()"
      ],
      "execution_count": 4,
      "outputs": [
        {
          "output_type": "stream",
          "text": [
            "Counter({0: 50, 1: 50})\n"
          ],
          "name": "stdout"
        },
        {
          "output_type": "stream",
          "text": [
            "/usr/local/lib/python3.7/dist-packages/sklearn/utils/deprecation.py:87: FutureWarning: Function safe_indexing is deprecated; safe_indexing is deprecated in version 0.22 and will be removed in version 0.24.\n",
            "  warnings.warn(msg, category=FutureWarning)\n",
            "/usr/local/lib/python3.7/dist-packages/sklearn/utils/deprecation.py:87: FutureWarning: Function safe_indexing is deprecated; safe_indexing is deprecated in version 0.22 and will be removed in version 0.24.\n",
            "  warnings.warn(msg, category=FutureWarning)\n",
            "/usr/local/lib/python3.7/dist-packages/sklearn/utils/deprecation.py:87: FutureWarning: Function safe_indexing is deprecated; safe_indexing is deprecated in version 0.22 and will be removed in version 0.24.\n",
            "  warnings.warn(msg, category=FutureWarning)\n"
          ],
          "name": "stderr"
        },
        {
          "output_type": "display_data",
          "data": {
            "image/png": "[encoded data removed]",
            "text/plain": [
              "<Figure size 432x288 with 1 Axes>"
            ]
          },
          "metadata": {
            "tags": [],
            "needs_background": "light"
          }
        }
      ]
    }
  ]
}